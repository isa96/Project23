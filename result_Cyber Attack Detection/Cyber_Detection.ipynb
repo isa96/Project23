{
  "nbformat": 4,
  "nbformat_minor": 0,
  "metadata": {
    "colab": {
      "name": "Cyber_Detection.ipynb",
      "private_outputs": true,
      "provenance": [],
      "collapsed_sections": []
    },
    "kernelspec": {
      "name": "python3",
      "display_name": "Python 3"
    },
    "language_info": {
      "name": "python"
    }
  },
  "cells": [
    {
      "cell_type": "code",
      "metadata": {
        "id": "OLg0sQswZspB"
      },
      "source": [
        "# clone git from preference\n",
        "!git clone https://github.com/ACANETS/NetML-Competition2020"
      ],
      "execution_count": null,
      "outputs": []
    },
    {
      "cell_type": "markdown",
      "metadata": {
        "id": "NcZfiNg8_q5z"
      },
      "source": [
        "Before run, make sure...\n",
        "1. Upload our 4 original Models\n",
        "2. Change path .json in utils.helper\n",
        "3. Move our models to NetML-Comp...\n",
        "Done"
      ]
    },
    {
      "cell_type": "markdown",
      "metadata": {
        "id": "pu0eV9WHsEpq"
      },
      "source": [
        "CICIDS"
      ]
    },
    {
      "cell_type": "markdown",
      "metadata": {
        "id": "XUfWBepQsVPJ"
      },
      "source": [
        "Fine Annot"
      ]
    },
    {
      "cell_type": "code",
      "metadata": {
        "id": "rW3-KXG-sasP"
      },
      "source": [
        "!python /content/NetML-Competition2020/Models.py --dataset /content/NetML-Competition2020/data/CICIDS2017 --anno fine --submit both\n",
        "!python /content/NetML-Competition2020/Models2.py --dataset /content/NetML-Competition2020/data/CICIDS2017 --anno fine --submit both\n",
        "!python /content/NetML-Competition2020/Models3.py --dataset /content/NetML-Competition2020/data/CICIDS2017 --anno fine --submit both\n",
        "!python /content/NetML-Competition2020/Models4.py --dataset /content/NetML-Competition2020/data/CICIDS2017 --anno fine --submit both"
      ],
      "execution_count": null,
      "outputs": []
    },
    {
      "cell_type": "markdown",
      "metadata": {
        "id": "qHJZySmKsYTy"
      },
      "source": [
        "Top Annot"
      ]
    },
    {
      "cell_type": "code",
      "metadata": {
        "id": "7F0jn7tHsH4B"
      },
      "source": [
        "!python /content/NetML-Competition2020/Models.py --dataset /content/NetML-Competition2020/data/CICIDS2017 --anno top --submit both\n",
        "!python /content/NetML-Competition2020/Models2.py --dataset /content/NetML-Competition2020/data/CICIDS2017 --anno top --submit both\n",
        "!python /content/NetML-Competition2020/Models3.py --dataset /content/NetML-Competition2020/data/CICIDS2017 --anno top --submit both\n",
        "!python /content/NetML-Competition2020/Models4.py --dataset /content/NetML-Competition2020/data/CICIDS2017 --anno top --submit both"
      ],
      "execution_count": null,
      "outputs": []
    },
    {
      "cell_type": "markdown",
      "metadata": {
        "id": "UMX_TEhGshmR"
      },
      "source": [
        "NETML"
      ]
    },
    {
      "cell_type": "markdown",
      "metadata": {
        "id": "xPsTRGSWsjCt"
      },
      "source": [
        "Fine Annot"
      ]
    },
    {
      "cell_type": "code",
      "metadata": {
        "id": "aL3EJwz5sqkK"
      },
      "source": [
        "!python /content/NetML-Competition2020/Models.py --dataset /content/NetML-Competition2020/data/NetML --anno fine --submit both\n",
        "!python /content/NetML-Competition2020/Models2.py --dataset /content/NetML-Competition2020/data/NetML --anno fine --submit both\n",
        "!python /content/NetML-Competition2020/Models3.py --dataset /content/NetML-Competition2020/data/NetML --anno fine --submit both\n",
        "!python /content/NetML-Competition2020/Models4.py --dataset /content/NetML-Competition2020/data/NetML --anno fine --submit both"
      ],
      "execution_count": null,
      "outputs": []
    },
    {
      "cell_type": "markdown",
      "metadata": {
        "id": "6NwS1VkYsoAN"
      },
      "source": [
        "Top Annot"
      ]
    },
    {
      "cell_type": "code",
      "metadata": {
        "id": "68O9QQXXaCOH"
      },
      "source": [
        "!python /content/NetML-Competition2020/Models.py --dataset /content/NetML-Competition2020/data/NetML --anno top --submit both\n",
        "!python /content/NetML-Competition2020/Models2.py --dataset /content/NetML-Competition2020/data/NetML --anno top --submit both\n",
        "!python /content/NetML-Competition2020/Models3.py --dataset /content/NetML-Competition2020/data/NetML --anno top --submit both\n",
        "!python /content/NetML-Competition2020/Models4.py --dataset /content/NetML-Competition2020/data/NetML --anno top --submit both"
      ],
      "execution_count": null,
      "outputs": []
    },
    {
      "cell_type": "markdown",
      "metadata": {
        "id": "K4fGuGP_s324"
      },
      "source": [
        "NON-VPN"
      ]
    },
    {
      "cell_type": "markdown",
      "metadata": {
        "id": "YHf-BdwSs72i"
      },
      "source": [
        "Fine Annot"
      ]
    },
    {
      "cell_type": "code",
      "metadata": {
        "id": "8lIrTw3FtDIL"
      },
      "source": [
        "!python /content/NetML-Competition2020/Models.py --dataset /content/NetML-Competition2020/data/non-vpn2016 --anno fine --submit both\n",
        "!python /content/NetML-Competition2020/Models2.py --dataset /content/NetML-Competition2020/data/non-vpn2016 --anno fine --submit both\n",
        "!python /content/NetML-Competition2020/Models3.py --dataset /content/NetML-Competition2020/data/non-vpn2016 --anno fine --submit both\n",
        "!python /content/NetML-Competition2020/Models4.py --dataset /content/NetML-Competition2020/data/non-vpn2016 --anno fine --submit both"
      ],
      "execution_count": null,
      "outputs": []
    },
    {
      "cell_type": "markdown",
      "metadata": {
        "id": "clS6Zcaes_ZU"
      },
      "source": [
        "Mid Annot"
      ]
    },
    {
      "cell_type": "code",
      "metadata": {
        "id": "antrmraLtPD3"
      },
      "source": [
        "!python /content/NetML-Competition2020/Models.py --dataset /content/NetML-Competition2020/data/non-vpn2016 --anno mid --submit both\n",
        "!python /content/NetML-Competition2020/Models2.py --dataset /content/NetML-Competition2020/data/non-vpn2016 --anno mid --submit both\n",
        "!python /content/NetML-Competition2020/Models3.py --dataset /content/NetML-Competition2020/data/non-vpn2016 --anno mid --submit both\n",
        "!python /content/NetML-Competition2020/Models4.py --dataset /content/NetML-Competition2020/data/non-vpn2016 --anno mid --submit both"
      ],
      "execution_count": null,
      "outputs": []
    },
    {
      "cell_type": "markdown",
      "metadata": {
        "id": "gKMevLd3s_NH"
      },
      "source": [
        "Top Annot"
      ]
    },
    {
      "cell_type": "code",
      "metadata": {
        "id": "ybh0O4a5tUtV"
      },
      "source": [
        "!python /content/NetML-Competition2020/Models.py --dataset /content/NetML-Competition2020/data/non-vpn2016 --anno top --submit both\n",
        "!python /content/NetML-Competition2020/Models2.py --dataset /content/NetML-Competition2020/data/non-vpn2016 --anno top --submit both\n",
        "!python /content/NetML-Competition2020/Models3.py --dataset /content/NetML-Competition2020/data/non-vpn2016 --anno top --submit both\n",
        "!python /content/NetML-Competition2020/Models4.py --dataset /content/NetML-Competition2020/data/non-vpn2016 --anno top --submit both"
      ],
      "execution_count": null,
      "outputs": []
    },
    {
      "cell_type": "code",
      "metadata": {
        "id": "TnPBl6Xgtec1"
      },
      "source": [
        "# this one for generate zip file from local folder collabs\n",
        "!zip -r /content/file.zip /content/results"
      ],
      "execution_count": null,
      "outputs": []
    },
    {
      "cell_type": "code",
      "metadata": {
        "id": "CHIuEP_xbkLN"
      },
      "source": [
        "# un-command this cells, if our folder path is wrong\n",
        "#!rm -rf /content/results"
      ],
      "execution_count": null,
      "outputs": []
    }
  ]
}